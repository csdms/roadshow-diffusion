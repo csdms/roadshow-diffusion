{
 "cells": [
  {
   "cell_type": "markdown",
   "id": "6ea74588-2a56-4737-bd6d-f72151c2c2f3",
   "metadata": {},
   "source": [
    "# A 1D diffusion model"
   ]
  },
  {
   "cell_type": "markdown",
   "id": "6bed0c58-5391-4f65-bc59-ad71dce86097",
   "metadata": {},
   "source": [
    "Here we develop a one-dimensional model of diffusion.\n",
    "It assumes a constant diffusivity.\n",
    "It uses a regular grid.\n",
    "It has fixed boundary conditions."
   ]
  },
  {
   "cell_type": "code",
   "execution_count": null,
   "id": "0b484645-f924-4150-86b2-20e8382b4c16",
   "metadata": {},
   "outputs": [],
   "source": [
    "import numpy as np\n",
    "import matplotlib.pyplot as plt"
   ]
  },
  {
   "cell_type": "code",
   "execution_count": null,
   "id": "c8ce101b",
   "metadata": {},
   "outputs": [],
   "source": [
    "# physics\n",
    "D = 100\n",
    "Lx = 300\n",
    "time = 0\n",
    "\n",
    "# numerical properties\n",
    "dx = 0.5\n",
    "x = np.arange(start=0, stop=Lx, step=dx)\n",
    "nx = len(x)\n",
    "nt = 10000\n",
    "nout = 1000\n",
    "\n",
    "# initial condition\n",
    "# Choose an initial condition where C = C1 when x <= (Lx/2) and C = 0 when x > (Lx/2)\n",
    "C1 = 500\n",
    "C2 = 0\n",
    "C = np.zeros_like(x)\n",
    "\n",
    "C[x <= Lx / 2] = C1\n",
    "C[x > Lx / 2] = C2\n",
    "\n",
    "# Plot the initial concentration\n",
    "# plt.figure()\n",
    "# plt.plot(x,C)\n",
    "# plt.title('Initial condition')\n",
    "# plt.show()\n",
    "\n",
    "# impose a condition on the time step (Von Neumann stability criterion)\n",
    "dt = dx * dx / D / 2.1\n",
    "print(dt)\n",
    "\n",
    "# model run: solve the heat equation and plot the result.\n",
    "\n",
    "# - make a time loop\n",
    "for t in range(0, nt):\n",
    "    # - in this loop, first calculate the flux by discretizing equation (1),\n",
    "    #   try to use vectorized code (using NumPy diff statement)\n",
    "    q = -D * np.diff(C) / dx\n",
    "\n",
    "    # - Update the new concentration (Eq. 2, without changing the boundary values)\n",
    "    #  Careful: which nodes do you have to update now?\n",
    "    C[1:-1] = C[1:-1] - dt * np.diff(q) / dx\n",
    "\n",
    "    # - plot intermediate results, but only for every 100 time steps\n",
    "    if t % 100 == 0:\n",
    "        # plt.figure()\n",
    "        plt.plot(x, C)\n",
    "        plt.title(\"Time is: \" + str(t))\n",
    "\n",
    "plt.show()"
   ]
  }
 ],
 "metadata": {
  "kernelspec": {
   "display_name": "CSDMS",
   "language": "python",
   "name": "csdms"
  },
  "language_info": {
   "codemirror_mode": {
    "name": "ipython",
    "version": 3
   },
   "file_extension": ".py",
   "mimetype": "text/x-python",
   "name": "python",
   "nbconvert_exporter": "python",
   "pygments_lexer": "ipython3",
   "version": "3.12.7"
  }
 },
 "nbformat": 4,
 "nbformat_minor": 5
}
