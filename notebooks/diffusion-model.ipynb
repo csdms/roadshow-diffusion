{
 "cells": [
  {
   "cell_type": "markdown",
   "id": "6ea74588-2a56-4737-bd6d-f72151c2c2f3",
   "metadata": {},
   "source": [
    "# A 1D diffusion model"
   ]
  },
  {
   "cell_type": "markdown",
   "id": "6bed0c58-5391-4f65-bc59-ad71dce86097",
   "metadata": {},
   "source": [
    "Here we develop a one-dimensional model of diffusion.\n",
    "It assumes a constant diffusivity.\n",
    "It uses a regular grid.\n",
    "It has fixed boundary conditions."
   ]
  },
  {
   "cell_type": "markdown",
   "id": "1f00ca20-be28-450e-bd33-fb4b48d1599f",
   "metadata": {},
   "source": [
    "The diffusion equation:\n",
    "\n",
    "$$ \\frac{\\partial C}{\\partial t} = D\\frac{\\partial^2 C}{\\partial x^2} $$\n"
   ]
  },
  {
   "cell_type": "markdown",
   "id": "385e90fd-de59-4fa4-b572-9de775f6d2c4",
   "metadata": {},
   "source": [
    "The discretized version of the diffusion equation we'll solve with our model:\n",
    "\n",
    "$$ C^{t+1}_x = C^t_x + {D \\Delta t \\over \\Delta x^2} (C^t_{x+1} - 2C^t_x + C^t_{x-1}) $$\n",
    "\n",
    "This is the explicit FTCS scheme as described in Slingerland and Kump (2011)."
   ]
  },
  {
   "cell_type": "markdown",
   "id": "8302576e-48fd-4f7c-9745-3bc76b9dcc98",
   "metadata": {},
   "source": [
    "We'll use two libraries, [NumPy](https://numpy.org/) (for arrays) and [Matplotlib](https://matplotlib.org/) (for plotting), that aren't a part of the core Python library."
   ]
  },
  {
   "cell_type": "code",
   "execution_count": null,
   "id": "0b484645-f924-4150-86b2-20e8382b4c16",
   "metadata": {},
   "outputs": [],
   "source": [
    "import numpy as np\n",
    "import matplotlib.pyplot as plt"
   ]
  },
  {
   "cell_type": "markdown",
   "id": "0ba12d3a-81f8-45d1-89b1-8ff368d73468",
   "metadata": {},
   "source": [
    "## Functions"
   ]
  },
  {
   "cell_type": "markdown",
   "id": "7154d212-914a-42e8-841f-0fe55e41d9b0",
   "metadata": {},
   "source": [
    "Write a function to calculate the time step of the model."
   ]
  },
  {
   "cell_type": "code",
   "execution_count": null,
   "id": "23ba5446-3997-423f-b7d9-d596d80ff17e",
   "metadata": {},
   "outputs": [],
   "source": [
    "def calculate_time_step(grid_spacing, diffusivity):\n",
    "    return 0.5 * grid_spacing**2 / diffusivity"
   ]
  },
  {
   "cell_type": "markdown",
   "id": "334aea08-516b-4978-9399-04905cc2366b",
   "metadata": {},
   "source": [
    "Make a function that creates the initial concentration profile."
   ]
  },
  {
   "cell_type": "code",
   "execution_count": null,
   "id": "077af1dc-0e05-4b2a-a834-48847222a33a",
   "metadata": {},
   "outputs": [],
   "source": [
    "def set_initial_profile(grid_size=100, boundary_left=500, boundary_right=0):\n",
    "    profile = np.empty(grid_size)\n",
    "    profile[: grid_size // 2] = boundary_left\n",
    "    profile[grid_size // 2 :] = boundary_right\n",
    "    return profile"
   ]
  },
  {
   "cell_type": "markdown",
   "id": "cb766d18-3ea3-421f-a647-7fc5af418380",
   "metadata": {},
   "source": [
    "Make a function to plot the concentration profile."
   ]
  },
  {
   "cell_type": "code",
   "execution_count": null,
   "id": "1af704ea-4912-4696-9345-f61e237f8457",
   "metadata": {},
   "outputs": [],
   "source": [
    "def plot_profile(concentration, grid, color=\"r\"):\n",
    "    plt.figure()\n",
    "    plt.plot(grid, concentration, color)\n",
    "    plt.xlabel(\"x\")\n",
    "    plt.ylabel(\"C\")\n",
    "    plt.title(\"Concentration profile\")"
   ]
  },
  {
   "cell_type": "markdown",
   "id": "8881c7f3-31da-414d-8bd2-ec674200afed",
   "metadata": {},
   "source": [
    "Write a function to set up the model grid."
   ]
  },
  {
   "cell_type": "code",
   "execution_count": null,
   "id": "f806baf6-6563-48fc-9ab7-9001d026a84d",
   "metadata": {},
   "outputs": [],
   "source": [
    "def make_grid(domain_size, grid_spacing):\n",
    "    grid = np.arange(start=0, stop=domain_size, step=grid_spacing)\n",
    "    return (grid, len(grid))"
   ]
  },
  {
   "cell_type": "markdown",
   "id": "98ea1e92-7600-4839-b3a5-ae875be97ef7",
   "metadata": {},
   "source": [
    "Finally, write a function to solve the diffusion equation, advancing the model by one time step."
   ]
  },
  {
   "cell_type": "code",
   "execution_count": null,
   "id": "13426ed5-aef3-4641-8e3c-e8b0a3c2f01d",
   "metadata": {},
   "outputs": [],
   "source": [
    "def solve1d(concentration, grid_spacing=1.0, time_step=1.0, diffusivity=1.0):\n",
    "    centered_diff = np.roll(concentration, -1) - 2*concentration + np.roll(concentration, 1)\n",
    "    concentration[1:-1] += diffusivity * time_step / grid_spacing**2 * centered_diff[1:-1]"
   ]
  },
  {
   "cell_type": "markdown",
   "id": "13ca3acd-f62e-42c3-8a7c-c3a5ab89785f",
   "metadata": {},
   "source": [
    "## Run the model"
   ]
  },
  {
   "cell_type": "markdown",
   "id": "1d1b32a5-8591-4bc2-aaa6-d2cf8b94ebb8",
   "metadata": {},
   "source": [
    "Start by setting two fixed model parameters--the diffusivity and the size of the model domain."
   ]
  },
  {
   "cell_type": "code",
   "execution_count": null,
   "id": "55fb64ad-25bf-44f7-9943-f2211d6b1ec8",
   "metadata": {},
   "outputs": [],
   "source": [
    "D = 100\n",
    "Lx = 300"
   ]
  },
  {
   "cell_type": "markdown",
   "id": "12c4f2b0-d9c3-4858-8d61-5f4f842e87c4",
   "metadata": {},
   "source": [
    "Next, set up the model grid using a NumPy array."
   ]
  },
  {
   "cell_type": "code",
   "execution_count": null,
   "id": "504ff046-7809-46ff-8ab6-7dafbb191573",
   "metadata": {},
   "outputs": [],
   "source": [
    "dx = 0.5\n",
    "x, nx = make_grid(Lx, dx)"
   ]
  },
  {
   "cell_type": "markdown",
   "id": "13bd2ea6-4e1b-4fec-8c01-bb0369fa288b",
   "metadata": {},
   "source": [
    "What does `x` look like? What is the value of `nx`?"
   ]
  },
  {
   "cell_type": "markdown",
   "id": "f55c2f8e-a2c4-47af-8cd0-4ac7413157dc",
   "metadata": {},
   "source": [
    "Set the initial conditions for the model.\n",
    "The concentration `C` is a step function with a high value on the left, a low value on the right, and the step at the center of the domain."
   ]
  },
  {
   "cell_type": "code",
   "execution_count": null,
   "id": "45209c6f-9cc2-4043-b5a5-f29e52f689ee",
   "metadata": {},
   "outputs": [],
   "source": [
    "C_left = 500\n",
    "C_right = 0\n",
    "C = set_initial_profile(nx, boundary_left=C_left, boundary_right=C_right)"
   ]
  },
  {
   "cell_type": "markdown",
   "id": "aaca0afa-be20-4264-8379-41ac3b4f25d4",
   "metadata": {},
   "source": [
    "Plot the initial concentration profile."
   ]
  },
  {
   "cell_type": "code",
   "execution_count": null,
   "id": "f63fccdd-c61e-441b-8e52-f483227cbdba",
   "metadata": {},
   "outputs": [],
   "source": [
    "plot_profile(C, x)"
   ]
  },
  {
   "cell_type": "markdown",
   "id": "323d89c1-2fd1-496d-a431-1a2ed620d0f4",
   "metadata": {},
   "source": [
    "Set the start time of the model and the number of time steps. Then calculate a stable time step for the model using the Von Neumann stability criterion."
   ]
  },
  {
   "cell_type": "code",
   "execution_count": null,
   "id": "2f676730-c7f5-468a-9ba2-18ae000dbb30",
   "metadata": {},
   "outputs": [],
   "source": [
    "time = 0\n",
    "nt = 5000\n",
    "dt = calculate_time_step(dx, D)"
   ]
  },
  {
   "cell_type": "markdown",
   "id": "112a7cde-23e1-4c36-b0c6-625069c95948",
   "metadata": {},
   "source": [
    "What is the value of `dt`?"
   ]
  },
  {
   "cell_type": "markdown",
   "id": "d573e7ae-21df-4fcd-9265-5d11dcf17855",
   "metadata": {},
   "source": [
    "Loop over the time steps of the model,\n",
    "solving the diffusion equation using the FTCS scheme described above.\n",
    "The boundary conditions are clamped, so reset them after each time step."
   ]
  },
  {
   "cell_type": "code",
   "execution_count": null,
   "id": "7a152ea6-644b-43db-b956-28444c08626f",
   "metadata": {},
   "outputs": [],
   "source": [
    "for t in range(0, nt):\n",
    "    solve1d(C, dx, dt, D)"
   ]
  },
  {
   "cell_type": "markdown",
   "id": "b469e56d-f2ed-4ffc-9c06-a87151e2c48b",
   "metadata": {},
   "source": [
    "Plot the result."
   ]
  },
  {
   "cell_type": "code",
   "execution_count": null,
   "id": "b4f749b5-0d88-4631-b089-07fb59479950",
   "metadata": {},
   "outputs": [],
   "source": [
    "plot_profile(C, x, color=\"b\")"
   ]
  }
 ],
 "metadata": {
  "kernelspec": {
   "display_name": "CSDMS",
   "language": "python",
   "name": "csdms"
  },
  "language_info": {
   "codemirror_mode": {
    "name": "ipython",
    "version": 3
   },
   "file_extension": ".py",
   "mimetype": "text/x-python",
   "name": "python",
   "nbconvert_exporter": "python",
   "pygments_lexer": "ipython3",
   "version": "3.12.7"
  }
 },
 "nbformat": 4,
 "nbformat_minor": 5
}
