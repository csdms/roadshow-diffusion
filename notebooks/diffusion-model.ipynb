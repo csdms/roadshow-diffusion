{
 "cells": [
  {
   "cell_type": "markdown",
   "id": "6ea74588-2a56-4737-bd6d-f72151c2c2f3",
   "metadata": {},
   "source": [
    "# A 1D diffusion model"
   ]
  },
  {
   "cell_type": "markdown",
   "id": "6bed0c58-5391-4f65-bc59-ad71dce86097",
   "metadata": {},
   "source": [
    "Here we develop a one-dimensional model of diffusion.\n",
    "It assumes a constant diffusivity.\n",
    "It uses a regular grid.\n",
    "It has fixed boundary conditions."
   ]
  },
  {
   "cell_type": "markdown",
   "id": "1f00ca20-be28-450e-bd33-fb4b48d1599f",
   "metadata": {},
   "source": [
    "The diffusion equation:\n",
    "\n",
    "$$ \\frac{\\partial C}{\\partial t} = D\\frac{\\partial^2 C}{\\partial x^2} $$\n"
   ]
  },
  {
   "cell_type": "markdown",
   "id": "385e90fd-de59-4fa4-b572-9de775f6d2c4",
   "metadata": {},
   "source": [
    "The discretized version of the diffusion equation we'll solve with our model:\n",
    "\n",
    "$$ C^{t+1}_x = C^t_x + {D \\Delta t \\over \\Delta x^2} (C^t_{x-1} - 2C^t_x + C^t_{x+1}) $$\n",
    "\n",
    "This is the explicit FTCS scheme as described in [Slingerland and Kump (2011)](https://press.princeton.edu/books/paperback/9780691145143/mathematical-modeling-of-earths-dynamical-systems)."
   ]
  },
  {
   "cell_type": "markdown",
   "id": "8302576e-48fd-4f7c-9745-3bc76b9dcc98",
   "metadata": {},
   "source": [
    "We'll use two libraries, [NumPy](https://numpy.org/) (for arrays) and [Matplotlib](https://matplotlib.org/) (for plotting), that aren't a part of the core Python library."
   ]
  },
  {
   "cell_type": "code",
   "execution_count": null,
   "id": "0b484645-f924-4150-86b2-20e8382b4c16",
   "metadata": {},
   "outputs": [],
   "source": [
    "import numpy as np\n",
    "import matplotlib.pyplot as plt"
   ]
  },
  {
   "cell_type": "markdown",
   "id": "1d1b32a5-8591-4bc2-aaa6-d2cf8b94ebb8",
   "metadata": {},
   "source": [
    "Start by setting two fixed model parameters--the diffusivity and the size of the model domain."
   ]
  },
  {
   "cell_type": "code",
   "execution_count": null,
   "id": "55fb64ad-25bf-44f7-9943-f2211d6b1ec8",
   "metadata": {},
   "outputs": [],
   "source": [
    "D = 100\n",
    "Lx = 300"
   ]
  },
  {
   "cell_type": "markdown",
   "id": "12c4f2b0-d9c3-4858-8d61-5f4f842e87c4",
   "metadata": {},
   "source": [
    "Next, set up the model grid using a NumPy array."
   ]
  },
  {
   "cell_type": "code",
   "execution_count": null,
   "id": "504ff046-7809-46ff-8ab6-7dafbb191573",
   "metadata": {},
   "outputs": [],
   "source": [
    "dx = 0.5\n",
    "x = np.arange(start=0, stop=Lx, step=dx)\n",
    "nx = len(x)"
   ]
  },
  {
   "cell_type": "markdown",
   "id": "939663b1-e250-490e-bbe7-4d044aa381a9",
   "metadata": {},
   "source": [
    "What does `x` look like? What is the value of `nx`?"
   ]
  },
  {
   "cell_type": "markdown",
   "id": "f55c2f8e-a2c4-47af-8cd0-4ac7413157dc",
   "metadata": {},
   "source": [
    "Set the initial conditions for the model.\n",
    "The concentration `C` is a step function with a high value on the left, a low value on the right, and the step at the center of the domain."
   ]
  },
  {
   "cell_type": "code",
   "execution_count": null,
   "id": "45209c6f-9cc2-4043-b5a5-f29e52f689ee",
   "metadata": {},
   "outputs": [],
   "source": [
    "C = np.zeros_like(x)\n",
    "C_left = 500\n",
    "C_right = 0\n",
    "C[x <= Lx / 2] = C_left\n",
    "C[x > Lx / 2] = C_right"
   ]
  },
  {
   "cell_type": "markdown",
   "id": "aaca0afa-be20-4264-8379-41ac3b4f25d4",
   "metadata": {},
   "source": [
    "Plot the initial concentration profile."
   ]
  },
  {
   "cell_type": "code",
   "execution_count": null,
   "id": "f63fccdd-c61e-441b-8e52-f483227cbdba",
   "metadata": {},
   "outputs": [],
   "source": [
    "plt.figure()\n",
    "plt.plot(x, C, \"r\")\n",
    "plt.xlabel(\"x\")\n",
    "plt.ylabel(\"C\")\n",
    "plt.title(\"Initial concentration profile\")"
   ]
  },
  {
   "cell_type": "markdown",
   "id": "ab0c3b48-a840-49e2-9a64-bc0958c3704c",
   "metadata": {},
   "source": [
    "Set the start time of the model and the number of time steps. Then, calculate a stable time step for the model using the Von Neumann stability criterion."
   ]
  },
  {
   "cell_type": "code",
   "execution_count": null,
   "id": "83569d62-27e5-472f-92e1-f3edc6d84f2b",
   "metadata": {},
   "outputs": [],
   "source": [
    "time = 0\n",
    "nt = 5000\n",
    "dt = 0.5 * dx**2 / D"
   ]
  },
  {
   "cell_type": "markdown",
   "id": "2f8381d4-1b91-45dc-a8fc-66361fb88497",
   "metadata": {},
   "source": [
    "What is the value of `dt`?"
   ]
  },
  {
   "cell_type": "markdown",
   "id": "d573e7ae-21df-4fcd-9265-5d11dcf17855",
   "metadata": {},
   "source": [
    "Loop over the time steps of the model,\n",
    "solving the diffusion equation using the FTCS scheme described above.\n",
    "The boundary conditions are clamped, so reset them after each time step."
   ]
  },
  {
   "cell_type": "code",
   "execution_count": null,
   "id": "7a152ea6-644b-43db-b956-28444c08626f",
   "metadata": {},
   "outputs": [],
   "source": [
    "for t in range(0, nt):\n",
    "    C += D * dt / dx**2 * (np.roll(C, 1) - 2*C + np.roll(C, -1))\n",
    "    C[0] = C_left\n",
    "    C[-1] = C_right"
   ]
  },
  {
   "cell_type": "markdown",
   "id": "b469e56d-f2ed-4ffc-9c06-a87151e2c48b",
   "metadata": {},
   "source": [
    "Plot the result."
   ]
  },
  {
   "cell_type": "code",
   "execution_count": null,
   "id": "b4f749b5-0d88-4631-b089-07fb59479950",
   "metadata": {},
   "outputs": [],
   "source": [
    "plt.figure()\n",
    "plt.plot(x, C, \"b\")\n",
    "plt.xlabel(\"x\")\n",
    "plt.ylabel(\"C\")\n",
    "plt.title(\"Final concentration profile\")"
   ]
  }
 ],
 "metadata": {
  "kernelspec": {
   "display_name": "CSDMS",
   "language": "python",
   "name": "csdms"
  },
  "language_info": {
   "codemirror_mode": {
    "name": "ipython",
    "version": 3
   },
   "file_extension": ".py",
   "mimetype": "text/x-python",
   "name": "python",
   "nbconvert_exporter": "python",
   "pygments_lexer": "ipython3",
   "version": "3.12.7"
  }
 },
 "nbformat": 4,
 "nbformat_minor": 5
}
